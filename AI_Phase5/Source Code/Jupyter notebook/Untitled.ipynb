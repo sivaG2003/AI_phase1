{
 "cells": [
  {
   "cell_type": "markdown",
   "id": "b73a9f5d-883f-499c-8dbd-0dae48d78909",
   "metadata": {},
   "source": [
    "<span style=\"color:green;font-weight:1000;font-size:60px;text-align:center\">\r\n",
    "    Fake News Detection \r\n",
    "</span>\r\n",
    " <span style=\"color:red;font-weight:1000;font-size:40px\">\r\n",
    "     Using  NLP\r\n",
    "</span>"
   ]
  },
  {
   "cell_type": "markdown",
   "id": "acf936fa-8b89-406a-bcb1-75d030e6fb32",
   "metadata": {},
   "source": [
    "![Fake news detection Phase 4 !](https://encrypted-tbn0.gstatic.com/images?q=tbn:ANd9GcTI8jMwnDuiAB012bA0BsnGwwaxLUkg7nDGqyMjZTz_H-UwKTxMLV6xeF0Sj93WSCAcEBk&usqp=CAU  \"Fake Img\")"
   ]
  },
  {
   "cell_type": "markdown",
   "id": "96d105c7-0a31-4cf0-b105-a86a9e12f427",
   "metadata": {},
   "source": [
    "[![forthebadge](data:image/svg+xml;base64,PHN2ZyB4bWxucz0iaHR0cDovL3d3dy53My5vcmcvMjAwMC9zdmciIHdpZHRoPSIxOTUuMjE4Nzg4MTQ2OTcyNjYiIGhlaWdodD0iMzUiIHZpZXdCb3g9IjAgMCAxOTUuMjE4Nzg4MTQ2OTcyNjYgMzUiPjxyZWN0IHdpZHRoPSIxMDYuNjA5Mzk3ODg4MTgzNiIgaGVpZ2h0PSIzNSIgZmlsbD0iI2YyMzM0YyIvPjxyZWN0IHg9IjEwNi42MDkzOTc4ODgxODM2IiB3aWR0aD0iODguNjA5MzkwMjU4Nzg5MDYiIGhlaWdodD0iMzUiIGZpbGw9IiNmODE1MmYiLz48dGV4dCB4PSI1My4zMDQ2OTg5NDQwOTE4IiB5PSIxNy41IiBmb250LXNpemU9IjEyIiBmb250LWZhbWlseT0iJ1JvYm90bycsIHNhbnMtc2VyaWYiIGZpbGw9IiMwMDAwMDAiIHRleHQtYW5jaG9yPSJtaWRkbGUiIGFsaWdubWVudC1iYXNlbGluZT0ibWlkZGxlIiBsZXR0ZXItc3BhY2luZz0iMiI+TUFERSBXSVRIPC90ZXh0Pjx0ZXh0IHg9IjE1MC45MTQwOTMwMTc1NzgxMiIgeT0iMTcuNSIgZm9udC1zaXplPSIxMiIgZm9udC1mYW1pbHk9IidNb250c2VycmF0Jywgc2Fucy1zZXJpZiIgZmlsbD0iIzAwMDAwMCIgdGV4dC1hbmNob3I9Im1pZGRsZSIgZm9udC13ZWlnaHQ9IjkwMCIgYWxpZ25tZW50LWJhc2VsaW5lPSJtaWRkbGUiIGxldHRlci1zcGFjaW5nPSIyIj5QWVRIT04gPC90ZXh0Pjwvc3ZnPg==)](https://forthebadge.com)"
   ]
  },
  {
   "cell_type": "markdown",
   "id": "0b8dcd52-ffb3-425a-8956-b3c6c5d14f1f",
   "metadata": {},
   "source": [
    "[![forthebadge](data:image/svg+xml;base64,PHN2ZyB4bWxucz0iaHR0cDovL3d3dy53My5vcmcvMjAwMC9zdmciIHdpZHRoPSIxMzcuOTY4NzYxNDQ0MDkxOCIgaGVpZ2h0PSIzNSIgdmlld0JveD0iMCAwIDEzNy45Njg3NjE0NDQwOTE4IDM1Ij48cmVjdCB3aWR0aD0iODEuOTY4NzU3NjI5Mzk0NTMiIGhlaWdodD0iMzUiIGZpbGw9IiM0YTRhNGEiLz48cmVjdCB4PSI4MS45Njg3NTc2MjkzOTQ1MyIgd2lkdGg9IjU2LjAwMDAwMzgxNDY5NzI2NiIgaGVpZ2h0PSIzNSIgZmlsbD0iIzUwZTNjMiIvPjx0ZXh0IHg9IjQwLjk4NDM3ODgxNDY5NzI2NiIgeT0iMTcuNSIgZm9udC1zaXplPSIxMiIgZm9udC1mYW1pbHk9IidSb2JvdG8nLCBzYW5zLXNlcmlmIiBmaWxsPSIjZmZmZmZmIiB0ZXh0LWFuY2hvcj0ibWlkZGxlIiBhbGlnbm1lbnQtYmFzZWxpbmU9Im1pZGRsZSIgbGV0dGVyLXNwYWNpbmc9IjIiPlBZVEhPTjwvdGV4dD48dGV4dCB4PSIxMDkuOTY4NzU5NTM2NzQzMTYiIHk9IjE3LjUiIGZvbnQtc2l6ZT0iMTIiIGZvbnQtZmFtaWx5PSInTW9udHNlcnJhdCcsIHNhbnMtc2VyaWYiIGZpbGw9IiMwMDAwMDAiIHRleHQtYW5jaG9yPSJtaWRkbGUiIGZvbnQtd2VpZ2h0PSI5MDAiIGFsaWdubWVudC1iYXNlbGluZT0ibWlkZGxlIiBsZXR0ZXItc3BhY2luZz0iMiI+My4xMjwvdGV4dD48L3N2Zz4=)](https://forthebadge.com)"
   ]
  },
  {
   "cell_type": "markdown",
   "id": "5c9e6a6f-36e4-42b4-beb8-500104832cae",
   "metadata": {},
   "source": [
    "## Usage:-\n",
    "\n",
    "- Clone my repository.\n",
    "- Open CMD in working directory.\n",
    "- Run `pip install -r requirements.txt`\n",
    "- Open project in any IDE(Pycharm or VSCode)\n",
    "- Run `Fake_News_Det.py`, go to the `http://127.0.0.1:5000/`\n",
    "- If you want to build your model with the some changes, you can check the `Fake_News_Detection.ipynb`.\n",
    "- You can check web app is working fine. Sometimes predictions may be wrong."
   ]
  },
  {
   "cell_type": "code",
   "execution_count": null,
   "id": "2cc18d07-35cb-4c95-8482-c10cfa873f1e",
   "metadata": {},
   "outputs": [],
   "source": []
  }
 ],
 "metadata": {
  "kernelspec": {
   "display_name": "Python 3 (ipykernel)",
   "language": "python",
   "name": "python3"
  },
  "language_info": {
   "codemirror_mode": {
    "name": "ipython",
    "version": 3
   },
   "file_extension": ".py",
   "mimetype": "text/x-python",
   "name": "python",
   "nbconvert_exporter": "python",
   "pygments_lexer": "ipython3",
   "version": "3.12.0"
  }
 },
 "nbformat": 4,
 "nbformat_minor": 5
}
